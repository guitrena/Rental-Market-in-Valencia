{
 "cells": [
  {
   "cell_type": "markdown",
   "id": "0b69d359",
   "metadata": {},
   "source": [
    "# Data restructuring\n",
    "\n",
    "\n",
    "After webscraping the valuable information, the data needs to be transformed to have a proper dataset. Usually this step would have been done in the same file as the webscraping, but due to the impossibility of sharing the webscraping notebook for legal reasons, **this notebook helps in understanding the data retrieved from the website scraped.**\n",
    "\n",
    "\n",
    "In this case, the data retrieved in a csv format has **4 columns**:\n",
    "\n",
    "   - **index**\n",
    "   - **Name:** Name of the offer. *Small description of the house offered: type of house (first word), principal feature and the location.* \n",
    "   - **Features:** List of features webscraped. *Different type of features for each observation (Nº of rooms, Surface, Nº of bathrooms, Elevator, ...).*\n",
    "   - **Price:** Price of the rental.\n",
    " \n",
    "After transforming the data, the new dataset downloaded has **12 columns**:\n",
    "\n",
    "   - **House_type:** Type of the house written in the offer. *Retrieved from **Name***.\n",
    "   - **Location:** District of the city where the house is located. *Retrieved from **Name***.\n",
    "   - **Furnished:** Whether the house is furnished or not. *Retrieved from **Features***.\n",
    "   - **Elevator:** Whether the house has an elevator or not. *Retrieved from **Features***.\n",
    "   - **Terrace:** Whether the house has a terrace or not. *Retrieved from **Features***.\n",
    "   - **Balcony:** Whether the house has a balcony or not. *Retrieved from **Features***.\n",
    "   - **Storage:** Whether the house has a storage or not. *Retrieved from **Features***.\n",
    "   - **Rooms:** Nº of rooms. *Retrieved from **Features***.\n",
    "   - **Bathrooms:** Nº of bathrooms. *Retrieved from **Features***.\n",
    "   - **Floor:** Nº of floor. *Retrieved from **Features***.\n",
    "   - **Surface:** Square meters of the house. *Retrieved from **Features***.\n",
    "   - **Price:** *Format fixed.*"
   ]
  },
  {
   "cell_type": "code",
   "execution_count": 2,
   "id": "89eec3ae",
   "metadata": {},
   "outputs": [],
   "source": [
    "import pandas as pd\n",
    "import numpy as np\n",
    "from collections import Counter\n",
    "import ast"
   ]
  },
  {
   "cell_type": "code",
   "execution_count": 3,
   "id": "14e18705",
   "metadata": {},
   "outputs": [
    {
     "data": {
      "text/html": [
       "<div>\n",
       "<style scoped>\n",
       "    .dataframe tbody tr th:only-of-type {\n",
       "        vertical-align: middle;\n",
       "    }\n",
       "\n",
       "    .dataframe tbody tr th {\n",
       "        vertical-align: top;\n",
       "    }\n",
       "\n",
       "    .dataframe thead th {\n",
       "        text-align: right;\n",
       "    }\n",
       "</style>\n",
       "<table border=\"1\" class=\"dataframe\">\n",
       "  <thead>\n",
       "    <tr style=\"text-align: right;\">\n",
       "      <th></th>\n",
       "      <th>Unnamed: 0</th>\n",
       "      <th>Name</th>\n",
       "      <th>Features</th>\n",
       "      <th>Price</th>\n",
       "    </tr>\n",
       "    <tr>\n",
       "      <th>index</th>\n",
       "      <th></th>\n",
       "      <th></th>\n",
       "      <th></th>\n",
       "      <th></th>\n",
       "    </tr>\n",
       "  </thead>\n",
       "  <tbody>\n",
       "    <tr>\n",
       "      <th>0</th>\n",
       "      <td>0</td>\n",
       "      <td>Piso de cuatro habitaciones Maximilià Thous, S...</td>\n",
       "      <td>['4 habitaciones', '125 m²', '2 baños', 'Plant...</td>\n",
       "      <td>€ 1.300/mes</td>\n",
       "    </tr>\n",
       "    <tr>\n",
       "      <th>1</th>\n",
       "      <td>1</td>\n",
       "      <td>Piso de tres habitaciones del Timó, El Perello...</td>\n",
       "      <td>['3 habitaciones', '80 m²', '1 baño', 'Planta ...</td>\n",
       "      <td>€ 1.100/mes</td>\n",
       "    </tr>\n",
       "    <tr>\n",
       "      <th>2</th>\n",
       "      <td>2</td>\n",
       "      <td>Piso de tres habitaciones del Timó, El Perello...</td>\n",
       "      <td>['3 habitaciones', '96 m²', '2 baños', 'Planta...</td>\n",
       "      <td>€ 1.195/mes</td>\n",
       "    </tr>\n",
       "    <tr>\n",
       "      <th>3</th>\n",
       "      <td>3</td>\n",
       "      <td>Piso tercera planta, Sant Francesc, València</td>\n",
       "      <td>['5 habitaciones', '236 m²', '3 baños', 'Plant...</td>\n",
       "      <td>€ 4.200/mes</td>\n",
       "    </tr>\n",
       "  </tbody>\n",
       "</table>\n",
       "</div>"
      ],
      "text/plain": [
       "       Unnamed: 0                                               Name  \\\n",
       "index                                                                  \n",
       "0               0  Piso de cuatro habitaciones Maximilià Thous, S...   \n",
       "1               1  Piso de tres habitaciones del Timó, El Perello...   \n",
       "2               2  Piso de tres habitaciones del Timó, El Perello...   \n",
       "3               3       Piso tercera planta, Sant Francesc, València   \n",
       "\n",
       "                                                Features        Price  \n",
       "index                                                                  \n",
       "0      ['4 habitaciones', '125 m²', '2 baños', 'Plant...  € 1.300/mes  \n",
       "1      ['3 habitaciones', '80 m²', '1 baño', 'Planta ...  € 1.100/mes  \n",
       "2      ['3 habitaciones', '96 m²', '2 baños', 'Planta...  € 1.195/mes  \n",
       "3      ['5 habitaciones', '236 m²', '3 baños', 'Plant...  € 4.200/mes  "
      ]
     },
     "execution_count": 3,
     "metadata": {},
     "output_type": "execute_result"
    }
   ],
   "source": [
    "df=pd.read_csv('rental_offers.csv',index_col='index')\n",
    "df.head(4)"
   ]
  },
  {
   "cell_type": "code",
   "execution_count": 11,
   "id": "d12229a9",
   "metadata": {},
   "outputs": [
    {
     "data": {
      "text/html": [
       "<div>\n",
       "<style scoped>\n",
       "    .dataframe tbody tr th:only-of-type {\n",
       "        vertical-align: middle;\n",
       "    }\n",
       "\n",
       "    .dataframe tbody tr th {\n",
       "        vertical-align: top;\n",
       "    }\n",
       "\n",
       "    .dataframe thead th {\n",
       "        text-align: right;\n",
       "    }\n",
       "</style>\n",
       "<table border=\"1\" class=\"dataframe\">\n",
       "  <thead>\n",
       "    <tr style=\"text-align: right;\">\n",
       "      <th></th>\n",
       "      <th>Unnamed: 0</th>\n",
       "      <th>Name</th>\n",
       "      <th>Features</th>\n",
       "      <th>Price</th>\n",
       "    </tr>\n",
       "    <tr>\n",
       "      <th>index</th>\n",
       "      <th></th>\n",
       "      <th></th>\n",
       "      <th></th>\n",
       "      <th></th>\n",
       "    </tr>\n",
       "  </thead>\n",
       "  <tbody>\n",
       "    <tr>\n",
       "      <th>579</th>\n",
       "      <td>579</td>\n",
       "      <td>Piso de dos habitaciones C. Cerrajeros, El Mer...</td>\n",
       "      <td>['2 habitaciones', '2 baños', 'Ascensor', 'Ter...</td>\n",
       "      <td>€ 1.875/mes</td>\n",
       "    </tr>\n",
       "    <tr>\n",
       "      <th>580</th>\n",
       "      <td>580</td>\n",
       "      <td>Piso de una habitación Carrer de Guillem de Ca...</td>\n",
       "      <td>['1 habitación', '1 baño', 'Ascensor', 'Terraz...</td>\n",
       "      <td>€ 1.300/mes</td>\n",
       "    </tr>\n",
       "  </tbody>\n",
       "</table>\n",
       "</div>"
      ],
      "text/plain": [
       "       Unnamed: 0                                               Name  \\\n",
       "index                                                                  \n",
       "579           579  Piso de dos habitaciones C. Cerrajeros, El Mer...   \n",
       "580           580  Piso de una habitación Carrer de Guillem de Ca...   \n",
       "\n",
       "                                                Features        Price  \n",
       "index                                                                  \n",
       "579    ['2 habitaciones', '2 baños', 'Ascensor', 'Ter...  € 1.875/mes  \n",
       "580    ['1 habitación', '1 baño', 'Ascensor', 'Terraz...  € 1.300/mes  "
      ]
     },
     "execution_count": 11,
     "metadata": {},
     "output_type": "execute_result"
    }
   ],
   "source": [
    "#Example: Observations 579 and 580 don't have the surface described in the offer\n",
    "df[579:581]"
   ]
  },
  {
   "cell_type": "code",
   "execution_count": 3,
   "id": "880d5455",
   "metadata": {},
   "outputs": [
    {
     "data": {
      "text/html": [
       "<div>\n",
       "<style scoped>\n",
       "    .dataframe tbody tr th:only-of-type {\n",
       "        vertical-align: middle;\n",
       "    }\n",
       "\n",
       "    .dataframe tbody tr th {\n",
       "        vertical-align: top;\n",
       "    }\n",
       "\n",
       "    .dataframe thead th {\n",
       "        text-align: right;\n",
       "    }\n",
       "</style>\n",
       "<table border=\"1\" class=\"dataframe\">\n",
       "  <thead>\n",
       "    <tr style=\"text-align: right;\">\n",
       "      <th></th>\n",
       "      <th>Name</th>\n",
       "      <th>Features</th>\n",
       "      <th>Price</th>\n",
       "    </tr>\n",
       "    <tr>\n",
       "      <th>index</th>\n",
       "      <th></th>\n",
       "      <th></th>\n",
       "      <th></th>\n",
       "    </tr>\n",
       "  </thead>\n",
       "  <tbody>\n",
       "    <tr>\n",
       "      <th>0</th>\n",
       "      <td>Piso de cuatro habitaciones Maximilià Thous, S...</td>\n",
       "      <td>['4 habitaciones', '125 m²', '2 baños', 'Plant...</td>\n",
       "      <td>€ 1.300/mes</td>\n",
       "    </tr>\n",
       "    <tr>\n",
       "      <th>1</th>\n",
       "      <td>Piso de tres habitaciones del Timó, El Perello...</td>\n",
       "      <td>['3 habitaciones', '80 m²', '1 baño', 'Planta ...</td>\n",
       "      <td>€ 1.100/mes</td>\n",
       "    </tr>\n",
       "    <tr>\n",
       "      <th>2</th>\n",
       "      <td>Piso de tres habitaciones del Timó, El Perello...</td>\n",
       "      <td>['3 habitaciones', '96 m²', '2 baños', 'Planta...</td>\n",
       "      <td>€ 1.195/mes</td>\n",
       "    </tr>\n",
       "    <tr>\n",
       "      <th>3</th>\n",
       "      <td>Piso tercera planta, Sant Francesc, València</td>\n",
       "      <td>['5 habitaciones', '236 m²', '3 baños', 'Plant...</td>\n",
       "      <td>€ 4.200/mes</td>\n",
       "    </tr>\n",
       "  </tbody>\n",
       "</table>\n",
       "</div>"
      ],
      "text/plain": [
       "                                                    Name  \\\n",
       "index                                                      \n",
       "0      Piso de cuatro habitaciones Maximilià Thous, S...   \n",
       "1      Piso de tres habitaciones del Timó, El Perello...   \n",
       "2      Piso de tres habitaciones del Timó, El Perello...   \n",
       "3           Piso tercera planta, Sant Francesc, València   \n",
       "\n",
       "                                                Features        Price  \n",
       "index                                                                  \n",
       "0      ['4 habitaciones', '125 m²', '2 baños', 'Plant...  € 1.300/mes  \n",
       "1      ['3 habitaciones', '80 m²', '1 baño', 'Planta ...  € 1.100/mes  \n",
       "2      ['3 habitaciones', '96 m²', '2 baños', 'Planta...  € 1.195/mes  \n",
       "3      ['5 habitaciones', '236 m²', '3 baños', 'Plant...  € 4.200/mes  "
      ]
     },
     "execution_count": 3,
     "metadata": {},
     "output_type": "execute_result"
    }
   ],
   "source": [
    "df.drop('Unnamed: 0',axis=1,inplace=True)\n",
    "df.head(4)"
   ]
  },
  {
   "cell_type": "code",
   "execution_count": 4,
   "id": "e7ac2630",
   "metadata": {},
   "outputs": [
    {
     "name": "stdout",
     "output_type": "stream",
     "text": [
      "44\n",
      "0\n"
     ]
    }
   ],
   "source": [
    "# Drop duplicated offers\n",
    "print(df.duplicated().sum())\n",
    "df.drop_duplicates(inplace=True)\n",
    "print(df.duplicated().sum())\n"
   ]
  },
  {
   "cell_type": "code",
   "execution_count": 5,
   "id": "62d5c5e1",
   "metadata": {},
   "outputs": [
    {
     "name": "stdout",
     "output_type": "stream",
     "text": [
      "<class 'pandas.core.frame.DataFrame'>\n",
      "Index: 712 entries, 0 to 755\n",
      "Data columns (total 3 columns):\n",
      " #   Column    Non-Null Count  Dtype \n",
      "---  ------    --------------  ----- \n",
      " 0   Name      712 non-null    object\n",
      " 1   Features  712 non-null    object\n",
      " 2   Price     712 non-null    object\n",
      "dtypes: object(3)\n",
      "memory usage: 22.2+ KB\n"
     ]
    }
   ],
   "source": [
    "df.info()"
   ]
  },
  {
   "cell_type": "code",
   "execution_count": 6,
   "id": "f809c47b",
   "metadata": {},
   "outputs": [
    {
     "data": {
      "text/plain": [
       "House_type\n",
       "Piso        690\n",
       "Ático        10\n",
       "Estudio       3\n",
       "Casa          3\n",
       "Edificio      3\n",
       "Dúplex        2\n",
       "Chalet        1\n",
       "Name: count, dtype: int64"
      ]
     },
     "execution_count": 6,
     "metadata": {},
     "output_type": "execute_result"
    }
   ],
   "source": [
    "df['House_type']=df['Name'].apply(lambda x: x.split(' ')[0])\n",
    "df['House_type'].replace({'Dúplex,':'Dúplex'},inplace=True)\n",
    "df['House_type'].value_counts()"
   ]
  },
  {
   "cell_type": "code",
   "execution_count": 7,
   "id": "135ab8f6",
   "metadata": {},
   "outputs": [
    {
     "name": "stdout",
     "output_type": "stream",
     "text": [
      "72\n"
     ]
    },
    {
     "data": {
      "text/plain": [
       "Location\n",
       "El Cabanyal-El Canyamelar    62\n",
       "Russafa                      48\n",
       "Sant Francesc                47\n",
       "Arrancapins                  31\n",
       "El Mercat                    29\n",
       "                             ..\n",
       "Favara                        1\n",
       "Trinitat                      1\n",
       "Ciutat Universitària          1\n",
       "Vara de Quart                 1\n",
       "Benimàmet                     1\n",
       "Name: count, Length: 72, dtype: int64"
      ]
     },
     "execution_count": 7,
     "metadata": {},
     "output_type": "execute_result"
    }
   ],
   "source": [
    "df['Location']=df['Name'].apply(lambda x: x.split(',')[-2].strip())\n",
    "print(len(df['Location'].unique()))\n",
    "df['Location'].value_counts()\n"
   ]
  },
  {
   "cell_type": "code",
   "execution_count": 8,
   "id": "81f9deee",
   "metadata": {},
   "outputs": [
    {
     "name": "stdout",
     "output_type": "stream",
     "text": [
      "<class 'str'>\n",
      "<class 'list'>\n"
     ]
    }
   ],
   "source": [
    "print(type(df['Features'][0]))\n",
    "df['Features2']=df['Features'].apply(lambda x: ast.literal_eval(x))\n",
    "print(type(df['Features2'][0]))"
   ]
  },
  {
   "cell_type": "code",
   "execution_count": 9,
   "id": "784ad1af",
   "metadata": {},
   "outputs": [
    {
     "data": {
      "text/plain": [
       "Counter({'Amueblado': 538,\n",
       "         'Ascensor': 499,\n",
       "         '1 baño': 335,\n",
       "         '2 baños': 316,\n",
       "         'Terraza': 315,\n",
       "         '2 habitaciones': 208,\n",
       "         '3 habitaciones': 206,\n",
       "         'Balcón': 167,\n",
       "         'No Ascensor': 157,\n",
       "         '4 habitaciones': 117,\n",
       "         '1 habitación': 103,\n",
       "         'Planta 3': 65,\n",
       "         'Planta 1': 62,\n",
       "         'Planta 2': 52,\n",
       "         'Sólo cocina amueblada': 45,\n",
       "         'Planta 4': 39,\n",
       "         '80 m²': 32,\n",
       "         'Trastero': 31,\n",
       "         'Planta 5': 28,\n",
       "         '90 m²': 22,\n",
       "         '3 baños': 21,\n",
       "         '110 m²': 20,\n",
       "         '70 m²': 20,\n",
       "         '100 m²': 19,\n",
       "         'Planta 6': 19,\n",
       "         '120 m²': 19,\n",
       "         '60 m²': 17,\n",
       "         '95 m²': 16,\n",
       "         'Planta 7': 16,\n",
       "         '5 habitaciones': 15,\n",
       "         '75 m²': 15,\n",
       "         '85 m²': 15,\n",
       "         '65 m²': 13,\n",
       "         '130 m²': 12,\n",
       "         '50 m²': 12,\n",
       "         'Planta 8': 10,\n",
       "         'Planta 9': 10,\n",
       "         '35 m²': 9,\n",
       "         '45 m²': 9,\n",
       "         '55 m²': 8,\n",
       "         'Planta 10': 8,\n",
       "         '3+ baños': 7,\n",
       "         'Planta 11': 7,\n",
       "         '125 m²': 6,\n",
       "         '79 m²': 6,\n",
       "         '150 m²': 6,\n",
       "         'Planta B': 6,\n",
       "         '160 m²': 6,\n",
       "         '124 m²': 6,\n",
       "         '102 m²': 6,\n",
       "         '98 m²': 5,\n",
       "         '91 m²': 5,\n",
       "         '115 m²': 5,\n",
       "         '40 m²': 5,\n",
       "         '86 m²': 5,\n",
       "         '106 m²': 4,\n",
       "         '5+ habitaciones': 4,\n",
       "         '133 m²': 4,\n",
       "         '117 m²': 4,\n",
       "         '77 m²': 4,\n",
       "         '116 m²': 4,\n",
       "         '118 m²': 4,\n",
       "         '38 m²': 4,\n",
       "         '47 m²': 4,\n",
       "         '54 m²': 4,\n",
       "         '89 m²': 4,\n",
       "         '84 m²': 4,\n",
       "         '83 m²': 4,\n",
       "         '122 m²': 4,\n",
       "         '30 m²': 4,\n",
       "         '136 m²': 4,\n",
       "         '76 m²': 4,\n",
       "         '161 m²': 3,\n",
       "         'Planta 19': 3,\n",
       "         '82 m²': 3,\n",
       "         '147 m²': 3,\n",
       "         '138 m²': 3,\n",
       "         '142 m²': 3,\n",
       "         '73 m²': 3,\n",
       "         '101 m²': 3,\n",
       "         '140 m²': 3,\n",
       "         '94 m²': 3,\n",
       "         '66 m²': 3,\n",
       "         '119 m²': 3,\n",
       "         '111 m²': 3,\n",
       "         '108 m²': 3,\n",
       "         '107 m²': 3,\n",
       "         '109 m²': 2,\n",
       "         '137 m²': 2,\n",
       "         '104 m²': 2,\n",
       "         '93 m²': 2,\n",
       "         '200 m²': 2,\n",
       "         'Planta 21': 2,\n",
       "         '53 m²': 2,\n",
       "         'Planta 12': 2,\n",
       "         '99 m²': 2,\n",
       "         '113 m²': 2,\n",
       "         '87 m²': 2,\n",
       "         '165 m²': 2,\n",
       "         '25 m²': 2,\n",
       "         '105 m²': 2,\n",
       "         '170 m²': 2,\n",
       "         '63 m²': 2,\n",
       "         '103 m²': 2,\n",
       "         '121 m²': 2,\n",
       "         '78 m²': 2,\n",
       "         '72 m²': 2,\n",
       "         '180 m²': 2,\n",
       "         '114 m²': 2,\n",
       "         '59 m²': 2,\n",
       "         '13 m²': 2,\n",
       "         '126 m²': 2,\n",
       "         '96 m²': 1,\n",
       "         '236 m²': 1,\n",
       "         '197 m²': 1,\n",
       "         '148 m²': 1,\n",
       "         '310 m²': 1,\n",
       "         'Planta 15': 1,\n",
       "         '146 m²': 1,\n",
       "         '157 m²': 1,\n",
       "         '163 m²': 1,\n",
       "         'Planta 18': 1,\n",
       "         '52 m²': 1,\n",
       "         '184 m²': 1,\n",
       "         '112 m²': 1,\n",
       "         '271 m²': 1,\n",
       "         '56 m²': 1,\n",
       "         '320 m²': 1,\n",
       "         '41 m²': 1,\n",
       "         '58 m²': 1,\n",
       "         '32 m²': 1,\n",
       "         '39 m²': 1,\n",
       "         '44 m²': 1,\n",
       "         'Planta 13': 1,\n",
       "         '92 m²': 1,\n",
       "         '139 m²': 1,\n",
       "         '22 m²': 1,\n",
       "         '24 m²': 1,\n",
       "         '27 m²': 1,\n",
       "         '123 m²': 1,\n",
       "         '61 m²': 1,\n",
       "         '188 m²': 1,\n",
       "         '141 m²': 1,\n",
       "         '167 m²': 1,\n",
       "         '81 m²': 1,\n",
       "         '243 m²': 1,\n",
       "         '67 m²': 1,\n",
       "         '151 m²': 1,\n",
       "         'Planta 17': 1,\n",
       "         '250 m²': 1,\n",
       "         '74 m²': 1,\n",
       "         '190 m²': 1,\n",
       "         '43 m²': 1,\n",
       "         '88 m²': 1,\n",
       "         '71 m²': 1,\n",
       "         '15 m²': 1,\n",
       "         '238 m²': 1,\n",
       "         '97 m²': 1,\n",
       "         '26 m²': 1,\n",
       "         '64 m²': 1,\n",
       "         '1.740 m²': 1,\n",
       "         'Parcialmente amueblado': 1,\n",
       "         '57 m²': 1})"
      ]
     },
     "execution_count": 9,
     "metadata": {},
     "output_type": "execute_result"
    }
   ],
   "source": [
    "#Check for all the possible features aggregating the lists of features for each observation and applying a Counter.\n",
    "#Then define the features and their types to build new columns.\n",
    "all_feats=sum(df['Features2'],[])\n",
    "Counter(all_feats)\n",
    "#Amueblado [bin], Ascensor (No)[bin], Terraza[bin], Balcón[bin], Trastero[bin] \n",
    "#Nº Habitaciones[int], Nº baños[int], Planta[int], Superficie (m2)[int]"
   ]
  },
  {
   "cell_type": "code",
   "execution_count": 10,
   "id": "4b566cba",
   "metadata": {},
   "outputs": [
    {
     "data": {
      "text/plain": [
       "Furnished\n",
       "1    539\n",
       "0    173\n",
       "Name: count, dtype: int64"
      ]
     },
     "execution_count": 10,
     "metadata": {},
     "output_type": "execute_result"
    }
   ],
   "source": [
    "def furnished(x):\n",
    "    if 'Amueblado' in x:\n",
    "        return 1\n",
    "    elif 'Parcialmente amueblado' in x:\n",
    "        return 1\n",
    "    else:\n",
    "        return 0\n",
    "\n",
    "df['Furnished']=df['Features2'].apply(lambda x: furnished(x))\n",
    "df['Furnished'].value_counts()"
   ]
  },
  {
   "cell_type": "code",
   "execution_count": 11,
   "id": "7be6ea3a",
   "metadata": {},
   "outputs": [
    {
     "data": {
      "text/plain": [
       "Elevator\n",
       "1.0    499\n",
       "0.0    157\n",
       "NaN     56\n",
       "Name: count, dtype: int64"
      ]
     },
     "execution_count": 11,
     "metadata": {},
     "output_type": "execute_result"
    }
   ],
   "source": [
    "def elevator(x):\n",
    "    if 'Ascensor' in x:\n",
    "        return 1\n",
    "    elif 'No Ascensor' in x:\n",
    "        return 0\n",
    "    else:\n",
    "        return np.nan\n",
    "\n",
    "df['Elevator']=df['Features2'].apply(lambda x: elevator(x))\n",
    "df['Elevator'].value_counts(dropna=False)"
   ]
  },
  {
   "cell_type": "code",
   "execution_count": 12,
   "id": "3b5bd372",
   "metadata": {},
   "outputs": [
    {
     "name": "stdout",
     "output_type": "stream",
     "text": [
      "Terrace\n",
      "0    397\n",
      "1    315\n",
      "Name: count, dtype: int64\n",
      "Balcony\n",
      "0    545\n",
      "1    167\n",
      "Name: count, dtype: int64\n"
     ]
    }
   ],
   "source": [
    "def terrace(x):\n",
    "    if 'Terraza' in x:\n",
    "        return 1\n",
    "    else:\n",
    "        return 0\n",
    "def balcony(x):\n",
    "    if 'Balcón' in x:\n",
    "        return 1\n",
    "    else:\n",
    "        return 0\n",
    "\n",
    "df['Terrace']=df['Features2'].apply(lambda x: terrace(x))\n",
    "df['Balcony']=df['Features2'].apply(lambda x: balcony(x))\n",
    "print(df['Terrace'].value_counts())\n",
    "print(df['Balcony'].value_counts())"
   ]
  },
  {
   "cell_type": "code",
   "execution_count": 13,
   "id": "e0e9e8de",
   "metadata": {},
   "outputs": [
    {
     "data": {
      "text/plain": [
       "Storage\n",
       "0    681\n",
       "1     31\n",
       "Name: count, dtype: int64"
      ]
     },
     "execution_count": 13,
     "metadata": {},
     "output_type": "execute_result"
    }
   ],
   "source": [
    "def storage(x):\n",
    "    if 'Trastero' in x:\n",
    "        return 1\n",
    "    else:\n",
    "        return 0\n",
    "df['Storage']=df['Features2'].apply(lambda x: storage(x))\n",
    "df['Storage'].value_counts()"
   ]
  },
  {
   "cell_type": "code",
   "execution_count": 14,
   "id": "936bc47b",
   "metadata": {},
   "outputs": [
    {
     "data": {
      "text/plain": [
       "Rooms\n",
       "2      208\n",
       "3      206\n",
       "4      117\n",
       "1      103\n",
       "NaN     59\n",
       "5       15\n",
       "5+       4\n",
       "Name: count, dtype: int64"
      ]
     },
     "execution_count": 14,
     "metadata": {},
     "output_type": "execute_result"
    }
   ],
   "source": [
    "def rooms(x):\n",
    "    for i in x:\n",
    "        if 'habitaci' in i:\n",
    "            return i.split()[0]\n",
    "    return np.nan\n",
    "df['Rooms']=df['Features2'].apply(lambda x: rooms(x))\n",
    "df['Rooms'].value_counts(dropna=False)"
   ]
  },
  {
   "cell_type": "code",
   "execution_count": 15,
   "id": "4fe5f18b",
   "metadata": {},
   "outputs": [
    {
     "data": {
      "text/plain": [
       "Bathrooms\n",
       "1      335\n",
       "2      316\n",
       "NaN     33\n",
       "3       21\n",
       "3+       7\n",
       "Name: count, dtype: int64"
      ]
     },
     "execution_count": 15,
     "metadata": {},
     "output_type": "execute_result"
    }
   ],
   "source": [
    "def bathrooms(x):\n",
    "    for i in x:\n",
    "        if 'baño' in i:\n",
    "            return i.split()[0]\n",
    "    return np.nan\n",
    "df['Bathrooms']=df['Features2'].apply(lambda x: bathrooms(x))\n",
    "df['Bathrooms'].value_counts(dropna=False)"
   ]
  },
  {
   "cell_type": "code",
   "execution_count": 16,
   "id": "35adcfe8",
   "metadata": {},
   "outputs": [
    {
     "data": {
      "text/plain": [
       "Floor\n",
       "NaN    379\n",
       "3       65\n",
       "1       62\n",
       "2       52\n",
       "4       39\n",
       "5       28\n",
       "6       19\n",
       "7       16\n",
       "8       10\n",
       "9       10\n",
       "10       8\n",
       "11       7\n",
       "B        6\n",
       "19       3\n",
       "21       2\n",
       "12       2\n",
       "15       1\n",
       "18       1\n",
       "13       1\n",
       "17       1\n",
       "Name: count, dtype: int64"
      ]
     },
     "execution_count": 16,
     "metadata": {},
     "output_type": "execute_result"
    }
   ],
   "source": [
    "def floor(x):\n",
    "    for i in x:\n",
    "        if 'Planta' in i:\n",
    "            return i.split()[1]\n",
    "    return np.nan\n",
    "df['Floor']=df['Features2'].apply(lambda x: floor(x))\n",
    "df['Floor'].value_counts(dropna=False)"
   ]
  },
  {
   "cell_type": "code",
   "execution_count": 17,
   "id": "4dbe250d",
   "metadata": {},
   "outputs": [
    {
     "data": {
      "text/plain": [
       "Surface\n",
       "NaN    195\n",
       "80      32\n",
       "90      22\n",
       "70      20\n",
       "110     20\n",
       "      ... \n",
       "27       1\n",
       "123      1\n",
       "61       1\n",
       "188      1\n",
       "57       1\n",
       "Name: count, Length: 127, dtype: int64"
      ]
     },
     "execution_count": 17,
     "metadata": {},
     "output_type": "execute_result"
    }
   ],
   "source": [
    "def surface(x):\n",
    "    for i in x:\n",
    "        if 'm²' in i:\n",
    "            return i.split()[0]\n",
    "    return np.nan\n",
    "df['Surface']=df['Features2'].apply(lambda x: surface(x))\n",
    "df['Surface'].value_counts(dropna=False)"
   ]
  },
  {
   "cell_type": "code",
   "execution_count": 18,
   "id": "d9c4d130",
   "metadata": {},
   "outputs": [
    {
     "data": {
      "text/plain": [
       "array(['1300', '1100', '1195', '4200', '1600', '2100', '2000', '1350',\n",
       "       '1950', '1200', '1450', '1500', '1400', '1800', '2900', '950',\n",
       "       '1010', '3800', '1050', '1130', '480', '450', '380', '1650', '300',\n",
       "       '1850', '2700', '1980', '4000', '5500', '1630', '2250', '2050',\n",
       "       '1370', '1290', '1835', '850', '1550', '1900', '1700', '2500',\n",
       "       '1250', '1390', '1590', '1499', '1190', '949', '3050', '1490',\n",
       "       '2400', '2600', '2200', '1680', '3000', '1240', '3600', '750',\n",
       "       '900', '4800', '990', '1320', '1952', '1599', '1750', '1855',\n",
       "       '1790', '1690', '1000', '5000', '1530', '1299', '2213', '1692',\n",
       "       '3500', '3400', '1150', '2330', '2300', '1868', '200', '2650',\n",
       "       '1301', '1020', '1090', '800', '1375', '1710', '1820', '970',\n",
       "       '920', '820', '700', '1322', '1399', '1990', '3650', '4500',\n",
       "       '2550', '2850', '2875', '3350', '2800', '980', '2440', '1875',\n",
       "       '550', '22000', '1495', '2150', '3200', 'a', '4400', '2950',\n",
       "       '3300', '8000', '1270', '1385', '1030', '835', '940', '1475',\n",
       "       '500'], dtype=object)"
      ]
     },
     "execution_count": 18,
     "metadata": {},
     "output_type": "execute_result"
    }
   ],
   "source": [
    "df['Price2']=df['Price'].apply(lambda x: x.split(' ')[1].split('/')[0].replace('.',''))\n",
    "df['Price2'].unique()"
   ]
  },
  {
   "cell_type": "code",
   "execution_count": 19,
   "id": "765c2ea8",
   "metadata": {},
   "outputs": [
    {
     "data": {
      "text/html": [
       "<div>\n",
       "<style scoped>\n",
       "    .dataframe tbody tr th:only-of-type {\n",
       "        vertical-align: middle;\n",
       "    }\n",
       "\n",
       "    .dataframe tbody tr th {\n",
       "        vertical-align: top;\n",
       "    }\n",
       "\n",
       "    .dataframe thead th {\n",
       "        text-align: right;\n",
       "    }\n",
       "</style>\n",
       "<table border=\"1\" class=\"dataframe\">\n",
       "  <thead>\n",
       "    <tr style=\"text-align: right;\">\n",
       "      <th></th>\n",
       "      <th>Name</th>\n",
       "      <th>Features</th>\n",
       "      <th>Price</th>\n",
       "      <th>House_type</th>\n",
       "      <th>Location</th>\n",
       "      <th>Features2</th>\n",
       "      <th>Furnished</th>\n",
       "      <th>Elevator</th>\n",
       "      <th>Terrace</th>\n",
       "      <th>Balcony</th>\n",
       "      <th>Storage</th>\n",
       "      <th>Rooms</th>\n",
       "      <th>Bathrooms</th>\n",
       "      <th>Floor</th>\n",
       "      <th>Surface</th>\n",
       "      <th>Price2</th>\n",
       "    </tr>\n",
       "    <tr>\n",
       "      <th>index</th>\n",
       "      <th></th>\n",
       "      <th></th>\n",
       "      <th></th>\n",
       "      <th></th>\n",
       "      <th></th>\n",
       "      <th></th>\n",
       "      <th></th>\n",
       "      <th></th>\n",
       "      <th></th>\n",
       "      <th></th>\n",
       "      <th></th>\n",
       "      <th></th>\n",
       "      <th></th>\n",
       "      <th></th>\n",
       "      <th></th>\n",
       "      <th></th>\n",
       "    </tr>\n",
       "  </thead>\n",
       "  <tbody>\n",
       "    <tr>\n",
       "      <th>664</th>\n",
       "      <td>Piso de una habitación primera planta, El Caba...</td>\n",
       "      <td>['1 habitación', '2 baños', 'Planta 1', 'No As...</td>\n",
       "      <td>Precio a consultar</td>\n",
       "      <td>Piso</td>\n",
       "      <td>El Cabanyal-El Canyamelar</td>\n",
       "      <td>[1 habitación, 2 baños, Planta 1, No Ascensor,...</td>\n",
       "      <td>1</td>\n",
       "      <td>0.0</td>\n",
       "      <td>0</td>\n",
       "      <td>1</td>\n",
       "      <td>0</td>\n",
       "      <td>1</td>\n",
       "      <td>2</td>\n",
       "      <td>1</td>\n",
       "      <td>NaN</td>\n",
       "      <td>a</td>\n",
       "    </tr>\n",
       "  </tbody>\n",
       "</table>\n",
       "</div>"
      ],
      "text/plain": [
       "                                                    Name  \\\n",
       "index                                                      \n",
       "664    Piso de una habitación primera planta, El Caba...   \n",
       "\n",
       "                                                Features               Price  \\\n",
       "index                                                                          \n",
       "664    ['1 habitación', '2 baños', 'Planta 1', 'No As...  Precio a consultar   \n",
       "\n",
       "      House_type                   Location  \\\n",
       "index                                         \n",
       "664         Piso  El Cabanyal-El Canyamelar   \n",
       "\n",
       "                                               Features2  Furnished  Elevator  \\\n",
       "index                                                                           \n",
       "664    [1 habitación, 2 baños, Planta 1, No Ascensor,...          1       0.0   \n",
       "\n",
       "       Terrace  Balcony  Storage Rooms Bathrooms Floor Surface Price2  \n",
       "index                                                                  \n",
       "664          0        1        0     1         2     1     NaN      a  "
      ]
     },
     "execution_count": 19,
     "metadata": {},
     "output_type": "execute_result"
    }
   ],
   "source": [
    "df.loc[df.Price2=='a']"
   ]
  },
  {
   "cell_type": "code",
   "execution_count": 20,
   "id": "8a6a0df8",
   "metadata": {},
   "outputs": [
    {
     "data": {
      "text/html": [
       "<div>\n",
       "<style scoped>\n",
       "    .dataframe tbody tr th:only-of-type {\n",
       "        vertical-align: middle;\n",
       "    }\n",
       "\n",
       "    .dataframe tbody tr th {\n",
       "        vertical-align: top;\n",
       "    }\n",
       "\n",
       "    .dataframe thead th {\n",
       "        text-align: right;\n",
       "    }\n",
       "</style>\n",
       "<table border=\"1\" class=\"dataframe\">\n",
       "  <thead>\n",
       "    <tr style=\"text-align: right;\">\n",
       "      <th></th>\n",
       "      <th>Name</th>\n",
       "      <th>Features</th>\n",
       "      <th>Price</th>\n",
       "      <th>House_type</th>\n",
       "      <th>Location</th>\n",
       "      <th>Features2</th>\n",
       "      <th>Furnished</th>\n",
       "      <th>Elevator</th>\n",
       "      <th>Terrace</th>\n",
       "      <th>Balcony</th>\n",
       "      <th>Storage</th>\n",
       "      <th>Rooms</th>\n",
       "      <th>Bathrooms</th>\n",
       "      <th>Floor</th>\n",
       "      <th>Surface</th>\n",
       "      <th>Price2</th>\n",
       "    </tr>\n",
       "    <tr>\n",
       "      <th>index</th>\n",
       "      <th></th>\n",
       "      <th></th>\n",
       "      <th></th>\n",
       "      <th></th>\n",
       "      <th></th>\n",
       "      <th></th>\n",
       "      <th></th>\n",
       "      <th></th>\n",
       "      <th></th>\n",
       "      <th></th>\n",
       "      <th></th>\n",
       "      <th></th>\n",
       "      <th></th>\n",
       "      <th></th>\n",
       "      <th></th>\n",
       "      <th></th>\n",
       "    </tr>\n",
       "  </thead>\n",
       "  <tbody>\n",
       "  </tbody>\n",
       "</table>\n",
       "</div>"
      ],
      "text/plain": [
       "Empty DataFrame\n",
       "Columns: [Name, Features, Price, House_type, Location, Features2, Furnished, Elevator, Terrace, Balcony, Storage, Rooms, Bathrooms, Floor, Surface, Price2]\n",
       "Index: []"
      ]
     },
     "execution_count": 20,
     "metadata": {},
     "output_type": "execute_result"
    }
   ],
   "source": [
    "df.drop(664,inplace=True)\n",
    "df.loc[df.Price2=='a']"
   ]
  },
  {
   "cell_type": "code",
   "execution_count": 21,
   "id": "715f5afa",
   "metadata": {},
   "outputs": [
    {
     "data": {
      "text/plain": [
       "array([ 1300,  1100,  1195,  4200,  1600,  2100,  2000,  1350,  1950,\n",
       "        1200,  1450,  1500,  1400,  1800,  2900,   950,  1010,  3800,\n",
       "        1050,  1130,   480,   450,   380,  1650,   300,  1850,  2700,\n",
       "        1980,  4000,  5500,  1630,  2250,  2050,  1370,  1290,  1835,\n",
       "         850,  1550,  1900,  1700,  2500,  1250,  1390,  1590,  1499,\n",
       "        1190,   949,  3050,  1490,  2400,  2600,  2200,  1680,  3000,\n",
       "        1240,  3600,   750,   900,  4800,   990,  1320,  1952,  1599,\n",
       "        1750,  1855,  1790,  1690,  1000,  5000,  1530,  1299,  2213,\n",
       "        1692,  3500,  3400,  1150,  2330,  2300,  1868,   200,  2650,\n",
       "        1301,  1020,  1090,   800,  1375,  1710,  1820,   970,   920,\n",
       "         820,   700,  1322,  1399,  1990,  3650,  4500,  2550,  2850,\n",
       "        2875,  3350,  2800,   980,  2440,  1875,   550, 22000,  1495,\n",
       "        2150,  3200,  4400,  2950,  3300,  8000,  1270,  1385,  1030,\n",
       "         835,   940,  1475,   500], dtype=int64)"
      ]
     },
     "execution_count": 21,
     "metadata": {},
     "output_type": "execute_result"
    }
   ],
   "source": [
    "df['Price2']=df['Price'].apply(lambda x: int(x.split(' ')[1].split('/')[0].replace('.','')))\n",
    "df['Price2'].unique()"
   ]
  },
  {
   "cell_type": "code",
   "execution_count": 22,
   "id": "f513fdd2",
   "metadata": {},
   "outputs": [
    {
     "data": {
      "text/html": [
       "<div>\n",
       "<style scoped>\n",
       "    .dataframe tbody tr th:only-of-type {\n",
       "        vertical-align: middle;\n",
       "    }\n",
       "\n",
       "    .dataframe tbody tr th {\n",
       "        vertical-align: top;\n",
       "    }\n",
       "\n",
       "    .dataframe thead th {\n",
       "        text-align: right;\n",
       "    }\n",
       "</style>\n",
       "<table border=\"1\" class=\"dataframe\">\n",
       "  <thead>\n",
       "    <tr style=\"text-align: right;\">\n",
       "      <th></th>\n",
       "      <th>House_type</th>\n",
       "      <th>Location</th>\n",
       "      <th>Furnished</th>\n",
       "      <th>Elevator</th>\n",
       "      <th>Terrace</th>\n",
       "      <th>Balcony</th>\n",
       "      <th>Storage</th>\n",
       "      <th>Rooms</th>\n",
       "      <th>Bathrooms</th>\n",
       "      <th>Floor</th>\n",
       "      <th>Surface</th>\n",
       "      <th>Price</th>\n",
       "    </tr>\n",
       "    <tr>\n",
       "      <th>index</th>\n",
       "      <th></th>\n",
       "      <th></th>\n",
       "      <th></th>\n",
       "      <th></th>\n",
       "      <th></th>\n",
       "      <th></th>\n",
       "      <th></th>\n",
       "      <th></th>\n",
       "      <th></th>\n",
       "      <th></th>\n",
       "      <th></th>\n",
       "      <th></th>\n",
       "    </tr>\n",
       "  </thead>\n",
       "  <tbody>\n",
       "    <tr>\n",
       "      <th>0</th>\n",
       "      <td>Piso</td>\n",
       "      <td>Sant Antoni</td>\n",
       "      <td>0</td>\n",
       "      <td>1.0</td>\n",
       "      <td>0</td>\n",
       "      <td>0</td>\n",
       "      <td>0</td>\n",
       "      <td>4</td>\n",
       "      <td>2</td>\n",
       "      <td>1</td>\n",
       "      <td>125</td>\n",
       "      <td>1300</td>\n",
       "    </tr>\n",
       "    <tr>\n",
       "      <th>1</th>\n",
       "      <td>Piso</td>\n",
       "      <td>El Perellonet</td>\n",
       "      <td>0</td>\n",
       "      <td>1.0</td>\n",
       "      <td>1</td>\n",
       "      <td>0</td>\n",
       "      <td>0</td>\n",
       "      <td>3</td>\n",
       "      <td>1</td>\n",
       "      <td>1</td>\n",
       "      <td>80</td>\n",
       "      <td>1100</td>\n",
       "    </tr>\n",
       "    <tr>\n",
       "      <th>2</th>\n",
       "      <td>Piso</td>\n",
       "      <td>El Perellonet</td>\n",
       "      <td>0</td>\n",
       "      <td>1.0</td>\n",
       "      <td>0</td>\n",
       "      <td>1</td>\n",
       "      <td>0</td>\n",
       "      <td>3</td>\n",
       "      <td>2</td>\n",
       "      <td>2</td>\n",
       "      <td>96</td>\n",
       "      <td>1195</td>\n",
       "    </tr>\n",
       "    <tr>\n",
       "      <th>3</th>\n",
       "      <td>Piso</td>\n",
       "      <td>Sant Francesc</td>\n",
       "      <td>0</td>\n",
       "      <td>1.0</td>\n",
       "      <td>0</td>\n",
       "      <td>0</td>\n",
       "      <td>0</td>\n",
       "      <td>5</td>\n",
       "      <td>3</td>\n",
       "      <td>3</td>\n",
       "      <td>236</td>\n",
       "      <td>4200</td>\n",
       "    </tr>\n",
       "    <tr>\n",
       "      <th>4</th>\n",
       "      <td>Piso</td>\n",
       "      <td>Gran Via</td>\n",
       "      <td>1</td>\n",
       "      <td>1.0</td>\n",
       "      <td>0</td>\n",
       "      <td>0</td>\n",
       "      <td>0</td>\n",
       "      <td>2</td>\n",
       "      <td>1</td>\n",
       "      <td>4</td>\n",
       "      <td>79</td>\n",
       "      <td>1600</td>\n",
       "    </tr>\n",
       "  </tbody>\n",
       "</table>\n",
       "</div>"
      ],
      "text/plain": [
       "      House_type       Location  Furnished  Elevator  Terrace  Balcony  \\\n",
       "index                                                                    \n",
       "0           Piso    Sant Antoni          0       1.0        0        0   \n",
       "1           Piso  El Perellonet          0       1.0        1        0   \n",
       "2           Piso  El Perellonet          0       1.0        0        1   \n",
       "3           Piso  Sant Francesc          0       1.0        0        0   \n",
       "4           Piso       Gran Via          1       1.0        0        0   \n",
       "\n",
       "       Storage Rooms Bathrooms Floor Surface  Price  \n",
       "index                                                \n",
       "0            0     4         2     1     125   1300  \n",
       "1            0     3         1     1      80   1100  \n",
       "2            0     3         2     2      96   1195  \n",
       "3            0     5         3     3     236   4200  \n",
       "4            0     2         1     4      79   1600  "
      ]
     },
     "execution_count": 22,
     "metadata": {},
     "output_type": "execute_result"
    }
   ],
   "source": [
    "df.drop(['Name','Features','Price','Features2'],axis=1,inplace=True)\n",
    "df.rename({'Price2':'Price'},axis=1,inplace=True)\n",
    "df.head()"
   ]
  },
  {
   "cell_type": "code",
   "execution_count": 23,
   "id": "4918ab78",
   "metadata": {},
   "outputs": [],
   "source": [
    "df.to_csv('rental_offers_clean.csv')"
   ]
  }
 ],
 "metadata": {
  "kernelspec": {
   "display_name": "Python 3 (ipykernel)",
   "language": "python",
   "name": "python3"
  },
  "language_info": {
   "codemirror_mode": {
    "name": "ipython",
    "version": 3
   },
   "file_extension": ".py",
   "mimetype": "text/x-python",
   "name": "python",
   "nbconvert_exporter": "python",
   "pygments_lexer": "ipython3",
   "version": "3.11.5"
  }
 },
 "nbformat": 4,
 "nbformat_minor": 5
}
