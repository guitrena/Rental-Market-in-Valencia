{
 "cells": [
  {
   "cell_type": "code",
   "execution_count": 1,
   "id": "01edd731",
   "metadata": {},
   "outputs": [],
   "source": [
    "from selenium import webdriver\n",
    "import time\n",
    "from bs4 import BeautifulSoup\n",
    "import random as rd"
   ]
  },
  {
   "cell_type": "code",
   "execution_count": 2,
   "id": "7e995f65",
   "metadata": {},
   "outputs": [],
   "source": [
    "urls_pages=['https://www.indomio.es/alquiler-casas/valencia-capital/?criterio=rilevanza&mapCenter=39.321509%2C-0.217&zoom=10&utm_source=bing&utm_medium=cpc&utm_campaign=search%7Cresidential%7Csale%7Ces%7Call%7Ces&utm_term=indomio&utm_content=residential%7Cpenthouse%7Csale%7Cmunicipality%7Czone%7Cfilter%7Ces%7Call%7Ces%7Cdsa'+f'&pag={i}' if i>1 else 'https://www.indomio.es/alquiler-casas/valencia-capital/?criterio=rilevanza&mapCenter=39.321509%2C-0.217&zoom=10&utm_source=bing&utm_medium=cpc&utm_campaign=search%7Cresidential%7Csale%7Ces%7Call%7Ces&utm_term=indomio&utm_content=residential%7Cpenthouse%7Csale%7Cmunicipality%7Czone%7Cfilter%7Ces%7Call%7Ces%7Cdsa' for i in range(1,32)]\n"
   ]
  },
  {
   "cell_type": "code",
   "execution_count": 3,
   "id": "64c99354",
   "metadata": {},
   "outputs": [],
   "source": [
    "def get_soup(url):\n",
    "    driver = webdriver.Edge(r\"C:\\Users\\Guillermo\\python\\edgedriver_win64\\msedgedriver.exe\") \n",
    "    driver.get(url)\n",
    "    driver.maximize_window()\n",
    "    for i in range(30):\n",
    "        scroll_amount = rd.randint(300,400)\n",
    "        driver.execute_script(f\"window.scrollBy(0, {scroll_amount});\")\n",
    "        time.sleep(rd.uniform(0.5, 1))\n",
    "    html = driver.page_source\n",
    "    soup = BeautifulSoup(html, 'html.parser')\n",
    "    driver.quit()    \n",
    "    return soup\n",
    "\n",
    "def get_prices(soup):\n",
    "    prices=soup.find_all(class_='in-listingCardPrice')\n",
    "    prices_list=[price.text.strip() for price in prices]\n",
    "    print('Prices length:', len(prices_list))\n",
    "    return prices_list\n",
    "\n",
    "def get_features(soup):\n",
    "    houses=soup.select('ul > li > div > div > div > div.in-listingCardFeatureList')\n",
    "    features=[]\n",
    "    for house in houses:\n",
    "        features_temp=[]\n",
    "        feat=house.find_next('div',class_='in-listingCardFeatureList__item')\n",
    "        while feat:\n",
    "            features_temp.append(feat.text.strip())\n",
    "            feat=feat.find_next_sibling()\n",
    "        features.append(features_temp)\n",
    "    print(len(features))\n",
    "    return features\n",
    "\n",
    "def get_names(soup):\n",
    "    offers=soup.find_all(class_='in-listingCardTitle')\n",
    "    offers_names=[offer.text.strip() for offer in offers]    \n",
    "    print(len(offers_names))\n",
    "    print(\"-\"*40)\n",
    "    return offers_names\n",
    "\n",
    "def get_agents(soup):\n",
    "    agents=soup.find_all(class_='in-listingCardAgencyLogo')\n",
    "    agents_list=[]\n",
    "    for logo in agents:\n",
    "        try:\n",
    "            agents_list.append(logo.find('figure').find('img')['alt'])\n",
    "        except:\n",
    "            agents_list.append('No Agent')\n",
    "    print(len(agents_list))\n",
    "    return agents_list"
   ]
  },
  {
   "cell_type": "code",
   "execution_count": 4,
   "id": "2ddc33c1",
   "metadata": {},
   "outputs": [
    {
     "name": "stdout",
     "output_type": "stream",
     "text": [
      "########################################\n"
     ]
    },
    {
     "ename": "NoSuchWindowException",
     "evalue": "Message: no such window: target window already closed\nfrom unknown error: web view not found\n  (Session info: MicrosoftEdge=129.0.2792.52)\n",
     "output_type": "error",
     "traceback": [
      "\u001b[1;31m---------------------------------------------------------------------------\u001b[0m",
      "\u001b[1;31mNoSuchWindowException\u001b[0m                     Traceback (most recent call last)",
      "Cell \u001b[1;32mIn[4], line 8\u001b[0m\n\u001b[0;32m      6\u001b[0m \u001b[38;5;28;01mfor\u001b[39;00m url \u001b[38;5;129;01min\u001b[39;00m urls_pages:\n\u001b[0;32m      7\u001b[0m     \u001b[38;5;28mprint\u001b[39m(\u001b[38;5;124m'\u001b[39m\u001b[38;5;124m#\u001b[39m\u001b[38;5;124m'\u001b[39m\u001b[38;5;241m*\u001b[39m\u001b[38;5;241m40\u001b[39m)\n\u001b[1;32m----> 8\u001b[0m     soup\u001b[38;5;241m=\u001b[39mget_soup(url)\n\u001b[0;32m      9\u001b[0m     prices_agg\u001b[38;5;241m.\u001b[39mextend(get_prices(soup))\n\u001b[0;32m     10\u001b[0m     features_agg\u001b[38;5;241m.\u001b[39mextend(get_features(soup))\n",
      "Cell \u001b[1;32mIn[3], line 7\u001b[0m, in \u001b[0;36mget_soup\u001b[1;34m(url)\u001b[0m\n\u001b[0;32m      5\u001b[0m \u001b[38;5;28;01mfor\u001b[39;00m i \u001b[38;5;129;01min\u001b[39;00m \u001b[38;5;28mrange\u001b[39m(\u001b[38;5;241m30\u001b[39m):\n\u001b[0;32m      6\u001b[0m     scroll_amount \u001b[38;5;241m=\u001b[39m rd\u001b[38;5;241m.\u001b[39mrandint(\u001b[38;5;241m300\u001b[39m,\u001b[38;5;241m400\u001b[39m)\n\u001b[1;32m----> 7\u001b[0m     driver\u001b[38;5;241m.\u001b[39mexecute_script(\u001b[38;5;124mf\u001b[39m\u001b[38;5;124m\"\u001b[39m\u001b[38;5;124mwindow.scrollBy(0, \u001b[39m\u001b[38;5;132;01m{\u001b[39;00mscroll_amount\u001b[38;5;132;01m}\u001b[39;00m\u001b[38;5;124m);\u001b[39m\u001b[38;5;124m\"\u001b[39m)\n\u001b[0;32m      8\u001b[0m     time\u001b[38;5;241m.\u001b[39msleep(rd\u001b[38;5;241m.\u001b[39muniform(\u001b[38;5;241m0.5\u001b[39m, \u001b[38;5;241m1\u001b[39m))\n\u001b[0;32m      9\u001b[0m html \u001b[38;5;241m=\u001b[39m driver\u001b[38;5;241m.\u001b[39mpage_source\n",
      "File \u001b[1;32m~\\Documents\\Anaconda\\Lib\\site-packages\\selenium\\webdriver\\remote\\webdriver.py:634\u001b[0m, in \u001b[0;36mWebDriver.execute_script\u001b[1;34m(self, script, *args)\u001b[0m\n\u001b[0;32m    631\u001b[0m \u001b[38;5;28;01melse\u001b[39;00m:\n\u001b[0;32m    632\u001b[0m     command \u001b[38;5;241m=\u001b[39m Command\u001b[38;5;241m.\u001b[39mEXECUTE_SCRIPT\n\u001b[1;32m--> 634\u001b[0m \u001b[38;5;28;01mreturn\u001b[39;00m \u001b[38;5;28mself\u001b[39m\u001b[38;5;241m.\u001b[39mexecute(command, {\n\u001b[0;32m    635\u001b[0m     \u001b[38;5;124m'\u001b[39m\u001b[38;5;124mscript\u001b[39m\u001b[38;5;124m'\u001b[39m: script,\n\u001b[0;32m    636\u001b[0m     \u001b[38;5;124m'\u001b[39m\u001b[38;5;124margs\u001b[39m\u001b[38;5;124m'\u001b[39m: converted_args})[\u001b[38;5;124m'\u001b[39m\u001b[38;5;124mvalue\u001b[39m\u001b[38;5;124m'\u001b[39m]\n",
      "File \u001b[1;32m~\\Documents\\Anaconda\\Lib\\site-packages\\selenium\\webdriver\\remote\\webdriver.py:321\u001b[0m, in \u001b[0;36mWebDriver.execute\u001b[1;34m(self, driver_command, params)\u001b[0m\n\u001b[0;32m    319\u001b[0m response \u001b[38;5;241m=\u001b[39m \u001b[38;5;28mself\u001b[39m\u001b[38;5;241m.\u001b[39mcommand_executor\u001b[38;5;241m.\u001b[39mexecute(driver_command, params)\n\u001b[0;32m    320\u001b[0m \u001b[38;5;28;01mif\u001b[39;00m response:\n\u001b[1;32m--> 321\u001b[0m     \u001b[38;5;28mself\u001b[39m\u001b[38;5;241m.\u001b[39merror_handler\u001b[38;5;241m.\u001b[39mcheck_response(response)\n\u001b[0;32m    322\u001b[0m     response[\u001b[38;5;124m'\u001b[39m\u001b[38;5;124mvalue\u001b[39m\u001b[38;5;124m'\u001b[39m] \u001b[38;5;241m=\u001b[39m \u001b[38;5;28mself\u001b[39m\u001b[38;5;241m.\u001b[39m_unwrap_value(\n\u001b[0;32m    323\u001b[0m         response\u001b[38;5;241m.\u001b[39mget(\u001b[38;5;124m'\u001b[39m\u001b[38;5;124mvalue\u001b[39m\u001b[38;5;124m'\u001b[39m, \u001b[38;5;28;01mNone\u001b[39;00m))\n\u001b[0;32m    324\u001b[0m     \u001b[38;5;28;01mreturn\u001b[39;00m response\n",
      "File \u001b[1;32m~\\Documents\\Anaconda\\Lib\\site-packages\\selenium\\webdriver\\remote\\errorhandler.py:242\u001b[0m, in \u001b[0;36mErrorHandler.check_response\u001b[1;34m(self, response)\u001b[0m\n\u001b[0;32m    240\u001b[0m         alert_text \u001b[38;5;241m=\u001b[39m value[\u001b[38;5;124m'\u001b[39m\u001b[38;5;124malert\u001b[39m\u001b[38;5;124m'\u001b[39m]\u001b[38;5;241m.\u001b[39mget(\u001b[38;5;124m'\u001b[39m\u001b[38;5;124mtext\u001b[39m\u001b[38;5;124m'\u001b[39m)\n\u001b[0;32m    241\u001b[0m     \u001b[38;5;28;01mraise\u001b[39;00m exception_class(message, screen, stacktrace, alert_text)\n\u001b[1;32m--> 242\u001b[0m \u001b[38;5;28;01mraise\u001b[39;00m exception_class(message, screen, stacktrace)\n",
      "\u001b[1;31mNoSuchWindowException\u001b[0m: Message: no such window: target window already closed\nfrom unknown error: web view not found\n  (Session info: MicrosoftEdge=129.0.2792.52)\n"
     ]
    }
   ],
   "source": [
    "prices_agg=[]\n",
    "features_agg=[]\n",
    "names_agg=[]\n",
    "agents_agg=[]\n",
    "\n",
    "for url in urls_pages:\n",
    "    print('#'*40)\n",
    "    soup=get_soup(url)\n",
    "    prices_agg.extend(get_prices(soup))\n",
    "    features_agg.extend(get_features(soup))\n",
    "    names_agg.extend(get_names(soup))\n",
    "    agents_agg.extend(get_agents(soup))\n",
    "    print(len(prices_agg))\n",
    "    print(len(features_agg))\n",
    "    print(len(names_agg))\n",
    "    print(len(agents_agg))"
   ]
  },
  {
   "cell_type": "code",
   "execution_count": null,
   "id": "fb1d1575",
   "metadata": {},
   "outputs": [],
   "source": []
  },
  {
   "cell_type": "code",
   "execution_count": null,
   "id": "a00db41d",
   "metadata": {},
   "outputs": [],
   "source": []
  },
  {
   "cell_type": "code",
   "execution_count": null,
   "id": "182386ad",
   "metadata": {},
   "outputs": [],
   "source": []
  },
  {
   "cell_type": "code",
   "execution_count": null,
   "id": "0039c2f7",
   "metadata": {},
   "outputs": [],
   "source": []
  },
  {
   "cell_type": "code",
   "execution_count": null,
   "id": "5ef8c92e",
   "metadata": {},
   "outputs": [],
   "source": []
  },
  {
   "cell_type": "code",
   "execution_count": null,
   "id": "afc3ca5b",
   "metadata": {},
   "outputs": [],
   "source": []
  }
 ],
 "metadata": {
  "kernelspec": {
   "display_name": "Python 3 (ipykernel)",
   "language": "python",
   "name": "python3"
  },
  "language_info": {
   "codemirror_mode": {
    "name": "ipython",
    "version": 3
   },
   "file_extension": ".py",
   "mimetype": "text/x-python",
   "name": "python",
   "nbconvert_exporter": "python",
   "pygments_lexer": "ipython3",
   "version": "3.11.5"
  }
 },
 "nbformat": 4,
 "nbformat_minor": 5
}
